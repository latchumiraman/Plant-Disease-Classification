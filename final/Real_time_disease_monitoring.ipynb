{
 "cells": [
  {
   "cell_type": "code",
   "execution_count": 1,
   "id": "c5794ac2",
   "metadata": {},
   "outputs": [
    {
     "name": "stderr",
     "output_type": "stream",
     "text": [
      "c:\\Users\\madhe\\AppData\\Local\\Programs\\Python\\Python311\\Lib\\site-packages\\tqdm\\auto.py:21: TqdmWarning: IProgress not found. Please update jupyter and ipywidgets. See https://ipywidgets.readthedocs.io/en/stable/user_install.html\n",
      "  from .autonotebook import tqdm as notebook_tqdm\n",
      "03/28/2024 11:53:04 - WARNING - tensorflow -   From c:\\Users\\madhe\\AppData\\Local\\Programs\\Python\\Python311\\Lib\\site-packages\\keras\\src\\losses.py:2976: The name tf.losses.sparse_softmax_cross_entropy is deprecated. Please use tf.compat.v1.losses.sparse_softmax_cross_entropy instead.\n",
      "\n",
      "Ultralytics YOLOv8.0.43  Python-3.11.6 torch-2.2.1+cpu CPU\n",
      "Model summary (fused): 168 layers, 11143386 parameters, 0 gradients, 28.5 GFLOPs\n",
      "\n",
      "image 1/1 G:\\4th sem\\ml\\lab\\project\\plant disease\\Backend\\images\\a3.jpg: 480x640 1 brinjal, 2 apples, 212.4ms\n",
      "Speed: 0.0ms preprocess, 212.4ms inference, 15.6ms postprocess per image at shape (1, 3, 640, 640)\n"
     ]
    },
    {
     "name": "stdout",
     "output_type": "stream",
     "text": [
      "tensor([[1.07300e+03, 1.11800e+03, 2.33300e+03, 1.92000e+03, 8.25091e-01, 2.80000e+01],\n",
      "        [1.31600e+03, 0.00000e+00, 2.56000e+03, 1.12100e+03, 7.15848e-01, 2.80000e+01],\n",
      "        [6.00000e+00, 2.89000e+02, 1.81600e+03, 1.76900e+03, 5.79199e-01, 1.50000e+01]])\n"
     ]
    }
   ],
   "source": [
    "from ultralyticsplus import YOLO, render_result\n",
    "model = YOLO('foduucom/plant-leaf-detection-and-classification')\n",
    "model.overrides['conf'] = 0.25  # NMS confidence threshold\n",
    "model.overrides['iou'] = 0.45  # NMS IoU threshold\n",
    "model.overrides['agnostic_nms'] = False  # NMS class-agnostic\n",
    "model.overrides['max_det'] = 1000  # maximum number of detections per image\n",
    "image=r\"G:\\4th sem\\ml\\lab\\project\\plant disease\\Backend\\images\\a3.jpg\"#the input image\n",
    "results = model.predict(image)\n",
    "print(results[0].boxes)\n",
    "render = render_result(model=model, image=image, result=results[0])\n",
    "render.show()\n",
    "from PIL import Image\n",
    "# Load the original image\n",
    "original_image = Image.open(image)\n",
    "\n",
    "# Iterate over each detected bounding box\n",
    "for box in results[0].boxes.data.tolist():\n",
    "    # Get the coordinates of the bounding box\n",
    "    x_min, y_min, x_max, y_max = box[0],box[1],box[2],box[3]\n",
    "\n",
    "    # Crop the image to the bounding box region\n",
    "    cropped_image = original_image.crop((x_min, y_min, x_max, y_max))\n",
    "\n",
    "    # Display or save the cropped image\n",
    "    #cropped_image.show()  \n",
    "    cropped_image.save('cropped_image.jpg')"
   ]
  },
  {
   "cell_type": "code",
   "execution_count": 2,
   "id": "6575e0b7",
   "metadata": {},
   "outputs": [],
   "source": [
    "import cv2"
   ]
  },
  {
   "cell_type": "code",
   "execution_count": 3,
   "id": "720cfb06",
   "metadata": {},
   "outputs": [],
   "source": [
    "import numpy as np\n",
    "import tensorflow as tf"
   ]
  },
  {
   "cell_type": "code",
   "execution_count": 7,
   "id": "736fc992",
   "metadata": {},
   "outputs": [],
   "source": [
    "model_path = r\"G:\\4th sem\\ml\\lab\\project\\plant disease\\Backend\\Backend\\Model\"\n",
    "model = tf.keras.models.load_model(model_path)\n",
    "plant_class=['Pepper_bell_Bacterial_spot',\n",
    " 'Pepper_bell_healthy',\n",
    " 'Potato_Early_blight',\n",
    " 'Potato_Late_blight',\n",
    " 'Potato_healthy',\n",
    " 'Tomato_Bacterial_spot',\n",
    " 'Tomato_Early_blight',\n",
    " 'Tomato_Target_Spot',\n",
    " 'Tomato_Tomato_YellowLeaf_Curl_Virus',\n",
    " 'Tomato_Tomato_mosaic_virus',\n",
    " 'Tomato_healthy',\n",
    " 'Apple_Black_Rot',\n",
    " 'Apple_Cedar_Rust',\n",
    " 'Apple_Healthy',\n",
    " 'Apple_Scab',\n",
    " 'Cherry_Healthy',\n",
    " 'Cherry_Powdery_Mildew',\n",
    " 'Corn_Cercospora_Leaf_Spot',\n",
    " 'Corn_Common_Rust',\n",
    " 'Corn_Healthy',\n",
    " 'Corn_Northern_Leaf_Blight',\n",
    " 'Grape_Black_Rot',\n",
    " 'Grape_Esca_Black_Measles',\n",
    " 'Grape_Healthy',\n",
    " 'Grape_Leaf_Blight',\n",
    " 'Peach_Bacterial_Spot',\n",
    " 'Peach_Healthy',\n",
    " 'Potato_Early_Blight',\n",
    " 'Potato_Healthy',\n",
    " 'Potato_Late_Blight',\n",
    " 'Strawberry_Healthy',\n",
    " 'Strawberry_Leaf_Scorch',]\n",
    "disease=[0,2,3,5,6,7,8,9]"
   ]
  },
  {
   "cell_type": "code",
   "execution_count": 8,
   "id": "3dde8b49",
   "metadata": {},
   "outputs": [],
   "source": [
    "def predict(model, img):\n",
    "    img=tf.expand_dims(img,0)\n",
    "    predictions=model.predict(img)\n",
    "    index=np.argmax(predictions[0])\n",
    "    predicted_class=plant_class[np.argmax(predictions[0])]\n",
    "    confidence =round(100*(np.max(predictions[0])),2)\n",
    "    return index,predicted_class, confidence"
   ]
  },
  {
   "cell_type": "code",
   "execution_count": 9,
   "id": "1de6ed9f",
   "metadata": {},
   "outputs": [
    {
     "name": "stdout",
     "output_type": "stream",
     "text": [
      "1/1 [==============================] - 0s 132ms/step\n",
      "3 Potato_Late_blight 100.0\n"
     ]
    }
   ],
   "source": [
    "cap = cropped_image\n",
    "live = np.array(cap)\n",
    "frame = tf.keras.preprocessing.image.smart_resize(live, (256, 256))\n",
    "index, predicted_class, confidence = predict(model, frame)\n",
    "print(index, predicted_class, confidence)\n",
    "# while True:\n",
    "#     # Use the loaded image\n",
    "#     live = np.array(cap)  # Convert PIL Image to NumPy array\n",
    "\n",
    "#     frame = tf.keras.preprocessing.image.smart_resize(live, (256, 256))\n",
    "#     frame = frame / 255.0  # Normalize the image\n",
    "\n",
    "#     index, predicted_class, confidence = predict(model, frame)\n",
    "#     print(index, predicted_class, confidence)\n",
    "#     if index in disease:\n",
    "#         cv2.putText(live, f\"ALERT!!! {predicted_class} Confidence: {confidence}\", (10, 30), cv2.FONT_HERSHEY_SIMPLEX, 0.5, (0, 0, 255), 2)\n",
    "#     else:\n",
    "#         cv2.putText(live, f\"{predicted_class} Confidence: {confidence}\", (10, 30), cv2.FONT_HERSHEY_SIMPLEX, 0.5, (0, 255, 0), 2)\n",
    "        \n",
    "#     cv2.imshow('Disease Detection', live)\n",
    "    \n",
    "#     if cv2.waitKey(1) & 0xFF == ord('q'):\n",
    "#         break\n",
    "\n",
    "# # Release the resources\n",
    "# cv2.destroyAllWindows()"
   ]
  },
  {
   "cell_type": "code",
   "execution_count": null,
   "id": "778ad0a2",
   "metadata": {},
   "outputs": [],
   "source": []
  }
 ],
 "metadata": {
  "kernelspec": {
   "display_name": "Python 3 (ipykernel)",
   "language": "python",
   "name": "python3"
  },
  "language_info": {
   "codemirror_mode": {
    "name": "ipython",
    "version": 3
   },
   "file_extension": ".py",
   "mimetype": "text/x-python",
   "name": "python",
   "nbconvert_exporter": "python",
   "pygments_lexer": "ipython3",
   "version": "3.11.6"
  }
 },
 "nbformat": 4,
 "nbformat_minor": 5
}
